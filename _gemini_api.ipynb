{
 "cells": [
  {
   "cell_type": "markdown",
   "metadata": {},
   "source": [
    "# Gemini Code\n",
    "# To-Do\n",
    "1. Comparar Gemini, openAi, Haugging Face\n",
    "2. Usar mais de um para cada coisa."
   ]
  },
  {
   "cell_type": "code",
   "execution_count": 23,
   "metadata": {},
   "outputs": [],
   "source": [
    "from dotenv import load_dotenv, find_dotenv\n",
    "import os\n",
    "\n",
    "_ = load_dotenv(find_dotenv())\n",
    "api_key = os.getenv('GOOGLE_API_KEY')"
   ]
  },
  {
   "cell_type": "code",
   "execution_count": 24,
   "metadata": {},
   "outputs": [],
   "source": [
    "from langchain_google_genai import ChatGoogleGenerativeAI\n",
    "\n",
    "model = ChatGoogleGenerativeAI(model='gemini-2.0-flash', api_key=api_key)"
   ]
  },
  {
   "cell_type": "code",
   "execution_count": 25,
   "metadata": {},
   "outputs": [],
   "source": [
    "from langchain_core.prompts import ChatPromptTemplate\n",
    "from langchain_core.output_parsers import StrOutputParser\n",
    "\n",
    "prompt = ChatPromptTemplate.from_template('Crie uma frase com o seguinte assunto: {assunto}')"
   ]
  },
  {
   "cell_type": "code",
   "execution_count": 26,
   "metadata": {},
   "outputs": [
    {
     "data": {
      "text/plain": [
       "'A paixão pelo futebol pulsa nas veias de milhões, unindo culturas e transformando um simples jogo em um espetáculo global.'"
      ]
     },
     "execution_count": 26,
     "metadata": {},
     "output_type": "execute_result"
    }
   ],
   "source": [
    "chain = prompt | model | StrOutputParser()\n",
    "chain.invoke({'assunto': 'futebol'})"
   ]
  },
  {
   "cell_type": "markdown",
   "metadata": {},
   "source": [
    "# Desafio - Chains com LCEL"
   ]
  },
  {
   "cell_type": "code",
   "execution_count": 27,
   "metadata": {},
   "outputs": [],
   "source": [
    "# Crie as seguintes chains:\n",
    "\n",
    "# 1) Uma chain para pegar um texto em outra língua para o português\n",
    "# 2) Uma para resumir um texto\n",
    "# 3) Uma chain que é a combinação da chain 1 com a chain 2\n",
    "\n",
    "# OpenAi\n",
    "from langchain_openai import ChatOpenAI\n",
    "from langchain_core.output_parsers import StrOutputParser\n",
    "from langchain_core.prompts import ChatPromptTemplate"
   ]
  },
  {
   "cell_type": "code",
   "execution_count": 29,
   "metadata": {},
   "outputs": [],
   "source": [
    "texto = \"\"\"\"\n",
    "Domenico accende la lampada e si siede. Beve il suo caffè. Finalmente, ha un’idea.\n",
    "Inizia a digitare sul suo computer portatile. Sta scrivendo una sceneggiatura per un film.\n",
    "“Tutto è silenzioso,” scrive. “La guardia di sicurezza sta dormendo. Le lettere segrete sono sulla scrivania. La spia si avvicina. Silenziosamente, lei —”\n",
    "Boom! Domenico salta. Il caffè si rovescia sul portatile. Il portatile smette di funzionare. Lo schermo dice: “Errore!”\n",
    "Ci sono luci verdi e gialle fuori dalla finestra. Le persone stanno applaudendo. La vicina di Domenico sta facendo una festa. È una famosa regista. Boom! Un altro fuoco d’artificio esplode nel giardino della regista.\n",
    "Nel cestino, accanto alla scrivania di Domenico, c’è una lettera. Dice: “Per favore, vieni alla mia festa. Stiamo celebrando il mio nuovo film, ‘Mi Scusi, Signor Spia’. Anche la tua sceneggiatura parla di una spia, vero? Ti prego, raccontamelo!”\n",
    "Domenico chiude le tende. Pulisce il portatile. Lo spegne e poi lo riaccende. Ora funziona bene.\n",
    "\"\"\""
   ]
  },
  {
   "cell_type": "code",
   "execution_count": 33,
   "metadata": {},
   "outputs": [],
   "source": [
    "model = ChatOpenAI()\n",
    "\n",
    "prompt1 = ChatPromptTemplate.from_template('Traduza o seguinte texto para o português: {texto}')"
   ]
  },
  {
   "cell_type": "code",
   "execution_count": 35,
   "metadata": {},
   "outputs": [
    {
     "data": {
      "text/plain": [
       "'Domenico acende a lâmpada e senta-se. Bebe seu café. Finalmente, ele tem uma ideia.\\nComeça a digitar em seu laptop. Está escrevendo um roteiro para um filme.\\n\"Tudo está em silêncio\", escreve. \"O segurança está dormindo. As cartas secretas estão na mesa. A espiã se aproxima. Silenciosamente, ela -\"\\nBoom! Domenico dá um pulo. O café se derrama no laptop. O laptop para de funcionar. A tela diz: \"Erro!\"\\nHá luzes verdes e amarelas fora da janela. As pessoas estão aplaudindo. A vizinha de Domenico está fazendo uma festa. Ela é uma famosa diretora. Boom! Outro fogos de artifício explode no jardim da diretora.\\nNa lixeira, ao lado da mesa de Domenico, há uma carta. Diz: \"Por favor, venha para a minha festa. Estamos celebrando meu novo filme, \\'Me Desculpe, Senhor Espia\\'. Sua história também fala de um espião, certo? Por favor, conte-me!\"\\nDomenico fecha as cortinas. Limpa o laptop. Desliga e liga novamente. Agora está funcionando bem.'"
      ]
     },
     "execution_count": 35,
     "metadata": {},
     "output_type": "execute_result"
    }
   ],
   "source": [
    "chain = prompt1 | model | StrOutputParser()\n",
    "chain.invoke({'texto': texto})"
   ]
  },
  {
   "cell_type": "code",
   "execution_count": 31,
   "metadata": {},
   "outputs": [
    {
     "data": {
      "text/plain": [
       "\"Domenico accende la lampada, beve il caffè e inizia a scrivere una sceneggiatura per un film. Improvvisamente, viene interrotto da un fuoco d'artificio proveniente dalla festa della sua vicina, una famosa regista. Trova una lettera che lo invita alla festa e si chiede se raccontare la sua storia di spie sia una buona idea.\""
      ]
     },
     "execution_count": 31,
     "metadata": {},
     "output_type": "execute_result"
    }
   ],
   "source": [
    "prompt2 = ChatPromptTemplate.from_template('Resuma seguinte texto: {texto}')\n",
    "\n",
    "chain = prompt2 | model | StrOutputParser()\n",
    "chain.invoke({'texto': texto})"
   ]
  },
  {
   "cell_type": "code",
   "execution_count": 34,
   "metadata": {},
   "outputs": [
    {
     "data": {
      "text/plain": [
       "'Domenico acende a lâmpada, bebe café e tem uma ideia para uma nova cena de filme. Ele começa a escrever no computador, mas um acidente com café danifica o aparelho. Enquanto isso, uma festa está acontecendo na casa da vizinha, que também é uma famosa diretora. Ao limpar e reiniciar o computador, Domenico encontra um convite para a festa da diretora.'"
      ]
     },
     "execution_count": 34,
     "metadata": {},
     "output_type": "execute_result"
    }
   ],
   "source": [
    "chain = prompt1 | prompt2 | model | StrOutputParser()\n",
    "chain.invoke({'texto': texto})"
   ]
  }
 ],
 "metadata": {
  "kernelspec": {
   "display_name": ".venv",
   "language": "python",
   "name": "python3"
  },
  "language_info": {
   "codemirror_mode": {
    "name": "ipython",
    "version": 3
   },
   "file_extension": ".py",
   "mimetype": "text/x-python",
   "name": "python",
   "nbconvert_exporter": "python",
   "pygments_lexer": "ipython3",
   "version": "3.13.2"
  }
 },
 "nbformat": 4,
 "nbformat_minor": 2
}
