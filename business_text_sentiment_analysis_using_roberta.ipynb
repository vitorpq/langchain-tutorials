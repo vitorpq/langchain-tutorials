{
  "nbformat": 4,
  "nbformat_minor": 0,
  "metadata": {
    "colab": {
      "provenance": []
    },
    "kernelspec": {
      "name": "python3",
      "display_name": "Python 3"
    },
    "language_info": {
      "name": "python"
    }
  },
  "cells": [
    {
      "cell_type": "markdown",
      "source": [
        "<h1><b>Financial-RoBERTa</b></h1>\n",
        "<p><b>Financial-RoBERTa</b> is a pre-trained NLP model to analyze sentiment of financial text including:</p>\n",
        "<ul style=\"PADDING-LEFT: 40px\">\n",
        "  <li>Financial Statements,</li>\n",
        "  <li>Earnings Announcements,</li>\n",
        "  <li>Earnings Call Transcripts,</li>\n",
        "  <li>Corporate Social Responsibility (CSR) Reports,</li>\n",
        "  <li>Environmental, Social, and Governance (ESG) News,</li>\n",
        "  <li>Financial News,</li>\n",
        "  <li>Etc.</li>\n",
        "</ul>\n",
        "<p>Financial-RoBERTa is built by further training and fine-tuning the RoBERTa Large language model using a large corpus created from 10k, 10Q, 8K, Earnings Call Transcripts, CSR Reports, ESG News, and Financial News text.</p>\n",
        "<p>The model will give softmax outputs for three labels: <b>Positive</b>, <b>Negative</b> or <b>Neutral</b>.</p>\n"
      ],
      "metadata": {
        "id": "_YanJTe43RRK"
      }
    },
    {
      "cell_type": "markdown",
      "source": [
        "<p><b>How to perform sentiment analysis:</b></p>\n",
        "We first need to install required libraries. </br>\n",
        "Install 🤗 Transformers and Pandas with the following command:"
      ],
      "metadata": {
        "id": "wiTrXNaIHQ-_"
      }
    },
    {
      "cell_type": "code",
      "execution_count": null,
      "metadata": {
        "id": "FsOYlrRXFgqS"
      },
      "outputs": [],
      "source": [
        "!pip install transformers\n",
        "!pip install pandas"
      ]
    },
    {
      "cell_type": "markdown",
      "source": [
        "After installing the required libraries, we should import them."
      ],
      "metadata": {
        "id": "euGGFh23O5W0"
      }
    },
    {
      "cell_type": "code",
      "source": [
        "from transformers import pipeline\n",
        "import pandas as pd"
      ],
      "metadata": {
        "id": "wHD779zJIH1Q"
      },
      "execution_count": null,
      "outputs": []
    },
    {
      "cell_type": "markdown",
      "source": [
        "Now, let's download (if have not done before) and load the Financial-RoBERTa model from Huggingface."
      ],
      "metadata": {
        "id": "Hz0HioCvO8G6"
      }
    },
    {
      "cell_type": "code",
      "source": [
        "classifier = pipeline(\"sentiment-analysis\",model=\"soleimanian/financial-roberta-large-sentiment\")"
      ],
      "metadata": {
        "id": "i9jV8nF-INUe"
      },
      "execution_count": null,
      "outputs": []
    },
    {
      "cell_type": "markdown",
      "source": [
        "After loading the model, we can run the sentiment analysis."
      ],
      "metadata": {
        "id": "-sSqbhKRPLQp"
      }
    },
    {
      "cell_type": "code",
      "source": [
        "Sentences = [\n",
        "'Our DSO was 40.2 days for the first quarter of 2021 as compared to 40.9 days for the first quarter of 2020',\n",
        "'Adjusted Operating Margin was 15.1% compared to 16.0% the year-ago quarter.',\n",
        "'Gross profit for the first six months of fiscal 2020 was $89.3 million, or 42.3% gross margin, compared to $81.9 million, or 41.5% gross margin, in the year ago period.',\n",
        "'Total jobs to be created for this project were estimated at 25; total jobs created are 20.',\n",
        "'Premium income from insurance policies is recognized on an as earned basis.',\n",
        "'Profit share and/or royalty revenue is reported as product revenue and is recognized based upon net sales or profit share of licensed products in licensed territories in the period the sales occur as provided by the collaboration agreement.',\n",
        "'Thus we are fully in line with the overarching trend of decarbonization.',\n",
        "'Our water waste increased by 10%.'\n",
        "]\n",
        "dict = {'sentence':[],'label':[],'score':[]}\n",
        "for sentence in Sentences:\n",
        "  result = classifier(sentence)[0]\n",
        "  dict['sentence'].append(sentence)\n",
        "  dict['label'].append(result['label'])\n",
        "  dict['score'].append(result['score'])\n",
        "df = pd.DataFrame.from_dict(dict)\n",
        "df"
      ],
      "metadata": {
        "id": "YCpaZkElIVT4"
      },
      "execution_count": null,
      "outputs": []
    },
    {
      "cell_type": "markdown",
      "source": [
        "Let's save the results in a CSV file"
      ],
      "metadata": {
        "id": "4HbyP3GlOVZU"
      }
    },
    {
      "cell_type": "code",
      "source": [
        "df.to_csv('Sentiment_Analysis.csv',index=False)"
      ],
      "metadata": {
        "id": "S2bmSO-HNibI"
      },
      "execution_count": null,
      "outputs": []
    },
    {
      "cell_type": "markdown",
      "source": [
        "The file will be saved in the following path:<br>\n",
        "/content/Sentiment_Analysis.csv"
      ],
      "metadata": {
        "id": "KWomDe4hN9rH"
      }
    },
    {
      "cell_type": "markdown",
      "source": [
        "**Contact Me**<br>\n",
        "Feel free to reach out to mohammad.soleimanian@concordia.ca with any questions or feedback you may have.\n",
        "<br>\n",
        "Website: www.mohammadsoleimanian.com"
      ],
      "metadata": {
        "id": "n6-6GeXLvEI5"
      }
    }
  ]
}